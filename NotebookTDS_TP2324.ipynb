{
  "cells": [
    {
      "cell_type": "markdown",
      "metadata": {
        "id": "1-8WHL1H2wTq"
      },
      "source": [
        "<h1><center> TP d’Initiation au Traitement du Signal </center></h1>\n",
        "\n",
        "<h2><center>Consignes</center></h2>\n",
        " \n",
        "1. Le fichier .ipynb doit être enregistré sous la forme: *votre_Nom_Prenom.ipynb* et être déposé sous Moodle.\n",
        "1.Chacune de vos réponses aux questions doit avoir un code source et des résultats numériques ou des images et/ou bien des commentaires associés.\n",
        "***"
      ]
    },
    {
      "cell_type": "markdown",
      "metadata": {
        "id": "_FcJJjyS2wTr"
      },
      "source": [
        "<h3><center>EXERCICE 1 : ÉCHANTILLONNAGE</center></h3>\n",
        "\n",
        "On considère le signal analogique $y(t) = cos(2πf0t)$ avec $t$ $∈$ $R$, et $f0 = 3kHz$. On échantillonne $y(t)$ à la fréquence $fe$.\n",
        "Soit $ye(n)$ le signal ainsi échantillonné.\n",
        "\n",
        "1) On fixe $fe = 10kHz$. Représenter le signal temporel et le module de sa transformée de Fourier sur deux figures différentes."
      ]
    },
    {
      "cell_type": "code",
      "source": [],
      "metadata": {
        "id": "w7Qwp0XbwCY8"
      },
      "execution_count": null,
      "outputs": []
    },
    {
      "cell_type": "markdown",
      "source": [
        "2) On fixe $fe = 4kHz$. Représenter le signal temporel et le module de sa transformée de Fourier sur deux figures différentes. Conclure."
      ],
      "metadata": {
        "id": "QsSC7yYjlBKa"
      }
    },
    {
      "cell_type": "code",
      "source": [],
      "metadata": {
        "id": "ldiC0OeVwM80"
      },
      "execution_count": null,
      "outputs": []
    },
    {
      "cell_type": "markdown",
      "source": [
        "*Commentaires (fréquence d'échantillonnage)*: "
      ],
      "metadata": {
        "id": "B8hkv1eVwNKc"
      }
    },
    {
      "cell_type": "markdown",
      "source": [
        "3) Charger, à l’aide de scipy.io.wavfile, le son \"handel\" qui a été échantillonné à la fréquence d’échantillonnage $fe = 8192Hz$ et quantifié sur 16 bits."
      ],
      "metadata": {
        "id": "L8XyI1u5wSAU"
      }
    },
    {
      "cell_type": "code",
      "source": [],
      "metadata": {
        "id": "qXK2D-sJxPp6"
      },
      "execution_count": null,
      "outputs": []
    },
    {
      "cell_type": "markdown",
      "source": [
        "4) Sous-échantillonner le signal sonore précédent d’un facteur 2 et écoutez-le. Conclure sur les effets du sous-échantionllonnage."
      ],
      "metadata": {
        "id": "gRh9Z_2lxQ-Z"
      }
    },
    {
      "cell_type": "code",
      "source": [],
      "metadata": {
        "id": "td9EbtJSxc5o"
      },
      "execution_count": null,
      "outputs": []
    },
    {
      "cell_type": "markdown",
      "source": [
        "*Commentaires (effets du sous-échantionllonnage)*:"
      ],
      "metadata": {
        "id": "6woJWwJExdBA"
      }
    },
    {
      "cell_type": "markdown",
      "source": [
        "5) Sur-échantillonner le signal sonore précédent d’un facteur 2 et écoutez-le. Conclure sur les effets du sur-échantionllonnage."
      ],
      "metadata": {
        "id": "6CwoeKzyxiQA"
      }
    },
    {
      "cell_type": "code",
      "source": [],
      "metadata": {
        "id": "cWrTgTyfxhDQ"
      },
      "execution_count": null,
      "outputs": []
    },
    {
      "cell_type": "markdown",
      "source": [
        "*Commentaires (effets du sur-échantionllonnage)*: "
      ],
      "metadata": {
        "id": "VYctR_uMxhwg"
      }
    },
    {
      "cell_type": "markdown",
      "metadata": {
        "id": "hi356Uso2wTr"
      },
      "source": [
        "***\n",
        "\n",
        "<h3><center>EXERCICE 2 : TRANSFORMÉE DE FOURIER ET FILTRAGE</center></h3>\n",
        "\n",
        "Soit le signal $x(n) = (1/2)^n$  $u(n)$, avec $u(n)$ l’échelon unité. \n",
        "\n",
        "1) Calculer $X(f)$ la transformée de Fourier de $x(n)$, avec $n = −128, ..., −1, 0, 1, 2, ..., 128$. Représenter le module et la phase de $X(f)$. On rappelle que $f$ $∈$ $[$−1/2$,  $1/2$]$\n",
        "\n"
      ]
    },
    {
      "cell_type": "code",
      "source": [],
      "metadata": {
        "id": "F3YgntnRzrzN"
      },
      "execution_count": null,
      "outputs": []
    },
    {
      "cell_type": "markdown",
      "metadata": {
        "id": "8rktyr352wTs"
      },
      "source": [
        "2) Quelle est la nature (passe-haut, bas, bande) de ce filtre?"
      ]
    },
    {
      "cell_type": "markdown",
      "source": [
        "*Commentaires*:"
      ],
      "metadata": {
        "id": "-P3BJeOZz3It"
      }
    },
    {
      "cell_type": "markdown",
      "source": [
        "3) On considère un filtre passe-bas idéal de fréquence de coupure 1/4. Représenter le module (dans le domaine de Fourier) de ce filtre.\n"
      ],
      "metadata": {
        "id": "niPSHcaGz4lc"
      }
    },
    {
      "cell_type": "code",
      "execution_count": null,
      "metadata": {
        "id": "6BeDYEVt2wTs"
      },
      "outputs": [],
      "source": []
    },
    {
      "cell_type": "markdown",
      "metadata": {
        "id": "eNG6ii4V2wTs"
      },
      "source": [
        "Soit $y(n) = cos(2πf1n)+cos(2πf2n)+cos(2πf3n)$, avec $n = −128, ..., −1, 0, 1, 2, ..., 128$ et $f1 = 1/5$, $f2 = 1/3$, $f3 = 2/5$.\n",
        "\n",
        "4) Représenter y(n)."
      ]
    },
    {
      "cell_type": "code",
      "source": [],
      "metadata": {
        "id": "mFYSOFX80Nn8"
      },
      "execution_count": null,
      "outputs": []
    },
    {
      "cell_type": "markdown",
      "metadata": {
        "id": "sS62Cp_82wTs"
      },
      "source": [
        "5) Quelle est la fréquence d’échantillonnage à laquelle est échantillonné le signal $y(n)$ ?"
      ]
    },
    {
      "cell_type": "markdown",
      "source": [
        "*Commentaires*:"
      ],
      "metadata": {
        "id": "VUt7ozXn0W38"
      }
    },
    {
      "cell_type": "markdown",
      "metadata": {
        "id": "4sn3BS-Y2wTt"
      },
      "source": [
        "6) On souhaite éliminer les fréquences $f2$ et $f3$.\n",
        "Donner la nature et la fréquence de coupure du filtre à utiliser."
      ]
    },
    {
      "cell_type": "markdown",
      "source": [
        "*Commentaires*:"
      ],
      "metadata": {
        "id": "4vsjNzgL0hL7"
      }
    },
    {
      "cell_type": "markdown",
      "source": [
        "7) Réaliser le filtrage. Afficher le signal filtré temporel et sa transformée de Fourier sur deux figures différentes. Conclure."
      ],
      "metadata": {
        "id": "e9hcWHFD0olE"
      }
    },
    {
      "cell_type": "code",
      "execution_count": null,
      "metadata": {
        "id": "-Ro6FXou2wTt"
      },
      "outputs": [],
      "source": []
    },
    {
      "cell_type": "markdown",
      "metadata": {
        "id": "PqIYHb7i2wTt"
      },
      "source": [
        "*Commentaires*: "
      ]
    },
    {
      "cell_type": "markdown",
      "metadata": {
        "id": "EUWpoeVD2wTt"
      },
      "source": [
        "8) Comment modifier le filtre passe-bas idéal pour éliminer $f1$ ?"
      ]
    },
    {
      "cell_type": "markdown",
      "source": [
        "*Commentaires*: "
      ],
      "metadata": {
        "id": "iL4s9rcf1EBL"
      }
    },
    {
      "cell_type": "markdown",
      "source": [
        "9) Réaliser le filtrage. Afficher le signal filtré temporel et sa transformée de Fourier sur deux figures différentes. Conclure."
      ],
      "metadata": {
        "id": "AsIBL9811ER6"
      }
    },
    {
      "cell_type": "code",
      "execution_count": null,
      "metadata": {
        "id": "lMN_ceir2wTt"
      },
      "outputs": [],
      "source": []
    },
    {
      "cell_type": "markdown",
      "metadata": {
        "id": "2TmZ3s5K2wTt"
      },
      "source": [
        "*Commentaires*: "
      ]
    },
    {
      "cell_type": "markdown",
      "metadata": {
        "id": "z39z0Q-R2wTt"
      },
      "source": [
        "***"
      ]
    },
    {
      "cell_type": "markdown",
      "metadata": {
        "id": "J0MK0p7j2wTt"
      },
      "source": [
        "<h3><center>EXERCICE 3 : FILTRAGE D’UN SIGNAL SONORE</center></h3>\n",
        "\n",
        "Charger, à l’aide de scipy.io.wavfile, le son \"handel\" qui a été échantillonné à la fréquence d’échantillonnage $fe = 8192Hz$ et quantifié sur 16 bits."
      ]
    },
    {
      "cell_type": "markdown",
      "metadata": {
        "id": "_3gPCLpH2wTu"
      },
      "source": [
        "1) Quelle est la durée en secondes de ce signal sonore ?"
      ]
    },
    {
      "cell_type": "markdown",
      "source": [
        "*Commentaires*: "
      ],
      "metadata": {
        "id": "SaweAMp52dSA"
      }
    },
    {
      "cell_type": "markdown",
      "source": [
        "2) Calculer et afficher le module de la transformée de Fourier de ce signal sonore."
      ],
      "metadata": {
        "id": "DfZpaNjn2f8P"
      }
    },
    {
      "cell_type": "code",
      "execution_count": null,
      "metadata": {
        "id": "9Mxr0U262wTu"
      },
      "outputs": [],
      "source": []
    },
    {
      "cell_type": "markdown",
      "metadata": {
        "id": "o6p9Pok02wTu"
      },
      "source": [
        "3) Générer un signal sinusoïdal, de fréquence 3 kHz, échantillonné à $fe = 8192Hz$, et de la même durée que le signal sonore \"handel\"."
      ]
    },
    {
      "cell_type": "code",
      "source": [],
      "metadata": {
        "id": "1L48k0n_2rWY"
      },
      "execution_count": null,
      "outputs": []
    },
    {
      "cell_type": "markdown",
      "metadata": {
        "id": "AwX1ZBLK2wTu"
      },
      "source": [
        "4) Additionner ce signal sinusoïdal au signal handel et écouter le signal résultant."
      ]
    },
    {
      "cell_type": "code",
      "execution_count": null,
      "metadata": {
        "id": "8IV6TY422wTu"
      },
      "outputs": [],
      "source": []
    },
    {
      "cell_type": "markdown",
      "metadata": {
        "id": "We2C9Ays2wTu"
      },
      "source": [
        "5) Calculer et afficher le module de la transformée de Fourier du signal résultant."
      ]
    },
    {
      "cell_type": "code",
      "execution_count": null,
      "metadata": {
        "id": "3kxrVTJP2wTu"
      },
      "outputs": [],
      "source": []
    },
    {
      "cell_type": "markdown",
      "metadata": {
        "id": "mLzVajVd2wTu"
      },
      "source": [
        "6) Proposer une méthode pour filtrer le signal cosinus. Mettez-la en oeuvre et écouter le signal filtré."
      ]
    },
    {
      "cell_type": "code",
      "source": [],
      "metadata": {
        "id": "6V2JRueR3Bvf"
      },
      "execution_count": null,
      "outputs": []
    },
    {
      "cell_type": "markdown",
      "metadata": {
        "id": "oT70NcWo2wTv"
      },
      "source": [
        "*Commentaires (brève description de la méthode)*: "
      ]
    },
    {
      "cell_type": "markdown",
      "metadata": {
        "id": "VCTCnw5n2wTv"
      },
      "source": [
        "7) Bruitez le signal sonore \"handel\" par un bruit Gaussien, additif, de moyenne nulle et d’écart-type 0, 5. Ecoutez le signal résultant."
      ]
    },
    {
      "cell_type": "code",
      "source": [],
      "metadata": {
        "id": "nPsgF5Vb3K0_"
      },
      "execution_count": null,
      "outputs": []
    },
    {
      "cell_type": "markdown",
      "metadata": {
        "id": "c15Q41nu2wTv"
      },
      "source": [
        "8) Débruitez ce signal par le filtre précédent. Conclure."
      ]
    },
    {
      "cell_type": "code",
      "source": [],
      "metadata": {
        "id": "SnDp3u3J3aw_"
      },
      "execution_count": null,
      "outputs": []
    },
    {
      "cell_type": "markdown",
      "source": [
        "*Commentaires*: "
      ],
      "metadata": {
        "id": "ijIvnBUe3a4O"
      }
    },
    {
      "cell_type": "markdown",
      "source": [
        "9) Générez 100 réalisations indépendantes du signal bruité par un bruit Gaussien et écoutez la moyenne temporelle de ces 100 signaux. Conclure."
      ],
      "metadata": {
        "id": "VLxqh9PB3e0m"
      }
    },
    {
      "cell_type": "code",
      "source": [],
      "metadata": {
        "id": "Et3ANhFQ3fY4"
      },
      "execution_count": null,
      "outputs": []
    },
    {
      "cell_type": "markdown",
      "source": [
        "*Commentaires*: "
      ],
      "metadata": {
        "id": "zd5DWT153fl-"
      }
    },
    {
      "cell_type": "markdown",
      "metadata": {
        "id": "vYpZd9212wTv"
      },
      "source": [
        "***"
      ]
    },
    {
      "cell_type": "markdown",
      "metadata": {
        "id": "hD8v82so2wTv"
      },
      "source": [
        "<h3><center>EXERCICE 4 : SYNTHÈSE D’UN SIGNAL SONORE</center></h3>\n"
      ]
    },
    {
      "cell_type": "markdown",
      "source": [
        "1) Rechercher (sur Wikipédia par exemple) les fréquences des notes de musique de base. Par exemple, la fréquence du \"do\" sur \"3 octave dans la gamme des tempérés\" est $261,63 Hz$."
      ],
      "metadata": {
        "id": "IlItxPwAFaSn"
      }
    },
    {
      "cell_type": "markdown",
      "source": [
        "*Commentaires (fréquences des notes de musique)*: "
      ],
      "metadata": {
        "id": "EDWnSSBO33u2"
      }
    },
    {
      "cell_type": "markdown",
      "source": [
        "2) Ecrire un programme qui joue les notes \"FRERE -JAC-QUES\" suivi de \"DORMEZ-VOUS\". On expliquera comment choisir la fréquence d’échantillonnage."
      ],
      "metadata": {
        "id": "v3qvRm6dIn7e"
      }
    },
    {
      "cell_type": "code",
      "source": [],
      "metadata": {
        "id": "xOgQpIuSIu5F"
      },
      "execution_count": null,
      "outputs": []
    },
    {
      "cell_type": "markdown",
      "source": [
        "*Commentaires (fréquence d’échantillonnage)*:"
      ],
      "metadata": {
        "id": "Gx0RYkEPIvCu"
      }
    },
    {
      "cell_type": "markdown",
      "source": [
        "3) Lire la \"musique\" ainsi obtenue. Répétez-la 3 fois."
      ],
      "metadata": {
        "id": "fj_PIrpEI251"
      }
    },
    {
      "cell_type": "code",
      "source": [],
      "metadata": {
        "id": "UjQicnKuI8NM"
      },
      "execution_count": null,
      "outputs": []
    },
    {
      "cell_type": "markdown",
      "source": [
        "4) Question facultative. Ecrire un programme qui joue la berceuse précédente entièrement."
      ],
      "metadata": {
        "id": "e4ngy3-zI8uc"
      }
    },
    {
      "cell_type": "code",
      "source": [],
      "metadata": {
        "id": "RqJP8tbXLlaQ"
      },
      "execution_count": null,
      "outputs": []
    }
  ],
  "metadata": {
    "kernelspec": {
      "display_name": "Python 3",
      "language": "python",
      "name": "python3"
    },
    "language_info": {
      "codemirror_mode": {
        "name": "ipython",
        "version": 3
      },
      "file_extension": ".py",
      "mimetype": "text/x-python",
      "name": "python",
      "nbconvert_exporter": "python",
      "pygments_lexer": "ipython3",
      "version": "3.8.5"
    },
    "colab": {
      "provenance": []
    }
  },
  "nbformat": 4,
  "nbformat_minor": 0
}